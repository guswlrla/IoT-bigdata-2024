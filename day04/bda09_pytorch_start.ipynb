{
 "cells": [
  {
   "cell_type": "markdown",
   "metadata": {},
   "source": [
    "### PyTorch\n",
    "\n",
    "<img src=https://upload.wikimedia.org/wikipedia/commons/thumb/c/c6/PyTorch_logo_black.svg/1920px-PyTorch_logo_black.png width=\"700\" style=\"background:white\">\n",
    "\n",
    "- https://pytorch.org/ 공식사이트\n",
    "- https://pytorch.kr/ 한글 공식사이트\n",
    "- https://tutorials.pytorch.kr/ 튜토리얼만 한글화 사이트"
   ]
  },
  {
   "cell_type": "markdown",
   "metadata": {},
   "source": [
    "#### PyTorch 설치\n",
    "- CPU 설치\n",
    "    - 간단하지만, 그래픽카드 가속 사용할 수 없음\n",
    "    - 기본 파이썬 환경 설치\n",
    "\n",
    "- GPU 설치\n",
    "    - 가상환경 생성, 설치\n",
    "\n",
    "#### CPU 설치\n",
    "- https://pytorch.org/get-started/locally/ 나와있는 Note에서 해당 플랫폼 종류 선택, 명령어 복사 실행\n",
    "\n",
    "    ```python\n",
    "    !pip install torch torchvision torchaudio\n",
    "    ```"
   ]
  },
  {
   "cell_type": "code",
   "execution_count": 2,
   "metadata": {},
   "outputs": [
    {
     "name": "stdout",
     "output_type": "stream",
     "text": [
      "Collecting torch\n",
      "  Using cached torch-2.4.0-cp311-cp311-win_amd64.whl.metadata (27 kB)\n",
      "Collecting torchvision\n",
      "  Using cached torchvision-0.19.0-1-cp311-cp311-win_amd64.whl.metadata (6.1 kB)\n",
      "Collecting torchaudio\n",
      "  Using cached torchaudio-2.4.0-cp311-cp311-win_amd64.whl.metadata (6.4 kB)\n",
      "Requirement already satisfied: filelock in c:\\dev\\langs\\python311\\lib\\site-packages (from torch) (3.13.1)\n",
      "Requirement already satisfied: typing-extensions>=4.8.0 in c:\\dev\\langs\\python311\\lib\\site-packages (from torch) (4.9.0)\n",
      "Collecting sympy (from torch)\n",
      "  Using cached sympy-1.13.1-py3-none-any.whl.metadata (12 kB)\n",
      "Collecting networkx (from torch)\n",
      "  Using cached networkx-3.3-py3-none-any.whl.metadata (5.1 kB)\n",
      "Requirement already satisfied: jinja2 in c:\\dev\\langs\\python311\\lib\\site-packages (from torch) (3.1.3)\n",
      "Collecting fsspec (from torch)\n",
      "  Using cached fsspec-2024.6.1-py3-none-any.whl.metadata (11 kB)\n",
      "Requirement already satisfied: numpy<2 in c:\\dev\\langs\\python311\\lib\\site-packages (from torchvision) (1.26.3)\n",
      "Requirement already satisfied: pillow!=8.3.*,>=5.3.0 in c:\\dev\\langs\\python311\\lib\\site-packages (from torchvision) (10.2.0)\n",
      "Requirement already satisfied: MarkupSafe>=2.0 in c:\\dev\\langs\\python311\\lib\\site-packages (from jinja2->torch) (2.1.4)\n",
      "Collecting mpmath<1.4,>=1.1.0 (from sympy->torch)\n",
      "  Using cached mpmath-1.3.0-py3-none-any.whl.metadata (8.6 kB)\n",
      "Downloading torch-2.4.0-cp311-cp311-win_amd64.whl (197.9 MB)\n",
      "   ---------------------------------------- 0.0/197.9 MB ? eta -:--:--\n",
      "   ---------------------------------------- 0.8/197.9 MB 3.7 MB/s eta 0:00:53\n",
      "   ---------------------------------------- 1.3/197.9 MB 3.7 MB/s eta 0:00:53\n",
      "   ---------------------------------------- 2.1/197.9 MB 3.5 MB/s eta 0:00:57\n",
      "    --------------------------------------- 2.9/197.9 MB 3.5 MB/s eta 0:00:56\n",
      "    --------------------------------------- 3.7/197.9 MB 3.6 MB/s eta 0:00:55\n",
      "    --------------------------------------- 4.5/197.9 MB 3.6 MB/s eta 0:00:55\n",
      "   - -------------------------------------- 5.0/197.9 MB 3.6 MB/s eta 0:00:55\n",
      "   - -------------------------------------- 5.8/197.9 MB 3.6 MB/s eta 0:00:54\n",
      "   - -------------------------------------- 6.8/197.9 MB 3.7 MB/s eta 0:00:52\n",
      "   - -------------------------------------- 7.6/197.9 MB 3.7 MB/s eta 0:00:52\n",
      "   - -------------------------------------- 8.9/197.9 MB 4.0 MB/s eta 0:00:48\n",
      "   -- ------------------------------------- 10.5/197.9 MB 4.3 MB/s eta 0:00:44\n",
      "   -- ------------------------------------- 12.1/197.9 MB 4.5 MB/s eta 0:00:42\n",
      "   -- ------------------------------------- 13.6/197.9 MB 4.8 MB/s eta 0:00:39\n",
      "   --- ------------------------------------ 15.5/197.9 MB 5.1 MB/s eta 0:00:36\n",
      "   --- ------------------------------------ 17.6/197.9 MB 5.4 MB/s eta 0:00:34\n",
      "   --- ------------------------------------ 18.9/197.9 MB 5.5 MB/s eta 0:00:33\n",
      "   ---- ----------------------------------- 20.7/197.9 MB 5.7 MB/s eta 0:00:32\n",
      "   ---- ----------------------------------- 22.8/197.9 MB 5.9 MB/s eta 0:00:30\n",
      "   ---- ----------------------------------- 24.4/197.9 MB 6.0 MB/s eta 0:00:29\n",
      "   ----- ---------------------------------- 26.5/197.9 MB 6.2 MB/s eta 0:00:28\n",
      "   ----- ---------------------------------- 28.0/197.9 MB 6.3 MB/s eta 0:00:28\n",
      "   ------ --------------------------------- 29.9/197.9 MB 6.4 MB/s eta 0:00:27\n",
      "   ------ --------------------------------- 31.5/197.9 MB 6.4 MB/s eta 0:00:26\n",
      "   ------ --------------------------------- 33.3/197.9 MB 6.5 MB/s eta 0:00:26\n",
      "   ------- -------------------------------- 35.1/197.9 MB 6.6 MB/s eta 0:00:25\n",
      "   ------- -------------------------------- 36.7/197.9 MB 6.7 MB/s eta 0:00:25\n",
      "   ------- -------------------------------- 38.3/197.9 MB 6.7 MB/s eta 0:00:24\n",
      "   -------- ------------------------------- 39.8/197.9 MB 6.8 MB/s eta 0:00:24\n",
      "   -------- ------------------------------- 41.7/197.9 MB 6.8 MB/s eta 0:00:23\n",
      "   -------- ------------------------------- 43.8/197.9 MB 6.9 MB/s eta 0:00:23\n",
      "   --------- ------------------------------ 45.1/197.9 MB 6.9 MB/s eta 0:00:22\n",
      "   --------- ------------------------------ 46.4/197.9 MB 6.9 MB/s eta 0:00:22\n",
      "   --------- ------------------------------ 48.2/197.9 MB 7.0 MB/s eta 0:00:22\n",
      "   ---------- ----------------------------- 50.1/197.9 MB 7.1 MB/s eta 0:00:21\n",
      "   ---------- ----------------------------- 51.4/197.9 MB 7.0 MB/s eta 0:00:21\n",
      "   ---------- ----------------------------- 53.5/197.9 MB 7.1 MB/s eta 0:00:21\n",
      "   ----------- ---------------------------- 55.6/197.9 MB 7.2 MB/s eta 0:00:20\n",
      "   ----------- ---------------------------- 57.7/197.9 MB 7.3 MB/s eta 0:00:20\n",
      "   ------------ --------------------------- 59.8/197.9 MB 7.4 MB/s eta 0:00:19\n",
      "   ------------ --------------------------- 62.1/197.9 MB 7.4 MB/s eta 0:00:19\n",
      "   ------------ --------------------------- 64.2/197.9 MB 7.5 MB/s eta 0:00:18\n",
      "   ------------- -------------------------- 66.3/197.9 MB 7.6 MB/s eta 0:00:18\n",
      "   ------------- -------------------------- 68.7/197.9 MB 7.7 MB/s eta 0:00:17\n",
      "   -------------- ------------------------- 70.8/197.9 MB 7.7 MB/s eta 0:00:17\n",
      "   -------------- ------------------------- 73.1/197.9 MB 7.8 MB/s eta 0:00:16\n",
      "   --------------- ------------------------ 75.5/197.9 MB 7.9 MB/s eta 0:00:16\n",
      "   --------------- ------------------------ 77.3/197.9 MB 7.9 MB/s eta 0:00:16\n",
      "   ---------------- ----------------------- 79.7/197.9 MB 8.0 MB/s eta 0:00:15\n",
      "   ---------------- ----------------------- 81.5/197.9 MB 8.0 MB/s eta 0:00:15\n",
      "   ---------------- ----------------------- 83.9/197.9 MB 8.1 MB/s eta 0:00:15\n",
      "   ----------------- ---------------------- 86.2/197.9 MB 8.1 MB/s eta 0:00:14\n",
      "   ----------------- ---------------------- 88.3/197.9 MB 8.2 MB/s eta 0:00:14\n",
      "   ------------------ --------------------- 90.7/197.9 MB 8.2 MB/s eta 0:00:14\n",
      "   ------------------ --------------------- 92.8/197.9 MB 8.3 MB/s eta 0:00:13\n",
      "   ------------------- -------------------- 95.2/197.9 MB 8.3 MB/s eta 0:00:13\n",
      "   ------------------- -------------------- 97.3/197.9 MB 8.4 MB/s eta 0:00:13\n",
      "   -------------------- ------------------- 99.6/197.9 MB 8.4 MB/s eta 0:00:12\n",
      "   -------------------- ------------------- 101.7/197.9 MB 8.5 MB/s eta 0:00:12\n",
      "   --------------------- ------------------ 104.1/197.9 MB 8.5 MB/s eta 0:00:12\n",
      "   --------------------- ------------------ 106.7/197.9 MB 8.6 MB/s eta 0:00:11\n",
      "   ---------------------- ----------------- 109.1/197.9 MB 8.6 MB/s eta 0:00:11\n",
      "   ---------------------- ----------------- 110.9/197.9 MB 8.6 MB/s eta 0:00:11\n",
      "   ---------------------- ----------------- 113.2/197.9 MB 8.7 MB/s eta 0:00:10\n",
      "   ----------------------- ---------------- 115.6/197.9 MB 8.7 MB/s eta 0:00:10\n",
      "   ----------------------- ---------------- 118.2/197.9 MB 8.8 MB/s eta 0:00:10\n",
      "   ------------------------ --------------- 120.6/197.9 MB 8.8 MB/s eta 0:00:09\n",
      "   ------------------------ --------------- 122.9/197.9 MB 8.8 MB/s eta 0:00:09\n",
      "   ------------------------- -------------- 124.8/197.9 MB 8.8 MB/s eta 0:00:09\n",
      "   ------------------------- -------------- 126.4/197.9 MB 8.8 MB/s eta 0:00:09\n",
      "   ------------------------- -------------- 127.7/197.9 MB 8.8 MB/s eta 0:00:08\n",
      "   -------------------------- ------------- 129.8/197.9 MB 8.8 MB/s eta 0:00:08\n",
      "   -------------------------- ------------- 131.9/197.9 MB 8.8 MB/s eta 0:00:08\n",
      "   --------------------------- ------------ 133.7/197.9 MB 8.8 MB/s eta 0:00:08\n",
      "   --------------------------- ------------ 136.1/197.9 MB 8.9 MB/s eta 0:00:07\n",
      "   --------------------------- ------------ 138.1/197.9 MB 8.9 MB/s eta 0:00:07\n",
      "   ---------------------------- ----------- 140.5/197.9 MB 8.9 MB/s eta 0:00:07\n",
      "   ---------------------------- ----------- 142.3/197.9 MB 9.0 MB/s eta 0:00:07\n",
      "   ----------------------------- ---------- 144.7/197.9 MB 9.0 MB/s eta 0:00:06\n",
      "   ----------------------------- ---------- 146.8/197.9 MB 9.0 MB/s eta 0:00:06\n",
      "   ------------------------------ --------- 148.9/197.9 MB 9.0 MB/s eta 0:00:06\n",
      "   ------------------------------ --------- 151.3/197.9 MB 9.0 MB/s eta 0:00:06\n",
      "   ------------------------------ --------- 153.1/197.9 MB 9.0 MB/s eta 0:00:05\n",
      "   ------------------------------- -------- 155.5/197.9 MB 9.1 MB/s eta 0:00:05\n",
      "   ------------------------------- -------- 157.5/197.9 MB 9.1 MB/s eta 0:00:05\n",
      "   -------------------------------- ------- 159.6/197.9 MB 9.1 MB/s eta 0:00:05\n",
      "   -------------------------------- ------- 161.7/197.9 MB 9.1 MB/s eta 0:00:04\n",
      "   --------------------------------- ------ 163.6/197.9 MB 9.1 MB/s eta 0:00:04\n",
      "   --------------------------------- ------ 165.7/197.9 MB 9.1 MB/s eta 0:00:04\n",
      "   --------------------------------- ------ 168.0/197.9 MB 9.1 MB/s eta 0:00:04\n",
      "   ---------------------------------- ----- 170.7/197.9 MB 9.2 MB/s eta 0:00:03\n",
      "   ---------------------------------- ----- 173.0/197.9 MB 9.2 MB/s eta 0:00:03\n",
      "   ----------------------------------- ---- 174.9/197.9 MB 9.2 MB/s eta 0:00:03\n",
      "   ----------------------------------- ---- 176.9/197.9 MB 9.2 MB/s eta 0:00:03\n",
      "   ------------------------------------ --- 178.5/197.9 MB 9.2 MB/s eta 0:00:03\n",
      "   ------------------------------------ --- 180.4/197.9 MB 9.2 MB/s eta 0:00:02\n",
      "   ------------------------------------ --- 182.5/197.9 MB 9.2 MB/s eta 0:00:02\n",
      "   ------------------------------------- -- 184.0/197.9 MB 9.2 MB/s eta 0:00:02\n",
      "   ------------------------------------- -- 185.9/197.9 MB 9.2 MB/s eta 0:00:02\n",
      "   ------------------------------------- -- 188.0/197.9 MB 9.2 MB/s eta 0:00:02\n",
      "   -------------------------------------- - 190.1/197.9 MB 9.2 MB/s eta 0:00:01\n",
      "   -------------------------------------- - 191.9/197.9 MB 9.2 MB/s eta 0:00:01\n",
      "   ---------------------------------------  194.0/197.9 MB 9.2 MB/s eta 0:00:01\n",
      "   ---------------------------------------  195.8/197.9 MB 9.2 MB/s eta 0:00:01\n",
      "   ---------------------------------------  197.7/197.9 MB 9.2 MB/s eta 0:00:01\n",
      "   ---------------------------------------  197.7/197.9 MB 9.2 MB/s eta 0:00:01\n",
      "   ---------------------------------------- 197.9/197.9 MB 9.1 MB/s eta 0:00:00\n",
      "Using cached torchvision-0.19.0-1-cp311-cp311-win_amd64.whl (1.3 MB)\n",
      "Using cached torchaudio-2.4.0-cp311-cp311-win_amd64.whl (2.4 MB)\n",
      "Using cached fsspec-2024.6.1-py3-none-any.whl (177 kB)\n",
      "Using cached networkx-3.3-py3-none-any.whl (1.7 MB)\n",
      "Using cached sympy-1.13.1-py3-none-any.whl (6.2 MB)\n",
      "Using cached mpmath-1.3.0-py3-none-any.whl (536 kB)\n",
      "Installing collected packages: mpmath, sympy, networkx, fsspec, torch, torchvision, torchaudio\n",
      "Successfully installed fsspec-2024.6.1 mpmath-1.3.0 networkx-3.3 sympy-1.13.1 torch-2.4.0 torchaudio-2.4.0 torchvision-0.19.0\n"
     ]
    }
   ],
   "source": [
    "!pip install torch torchvision torchaudio"
   ]
  },
  {
   "cell_type": "code",
   "execution_count": 3,
   "metadata": {},
   "outputs": [],
   "source": [
    "import torch"
   ]
  },
  {
   "cell_type": "code",
   "execution_count": 4,
   "metadata": {},
   "outputs": [
    {
     "data": {
      "text/plain": [
       "'2.4.0+cpu'"
      ]
     },
     "execution_count": 4,
     "metadata": {},
     "output_type": "execute_result"
    }
   ],
   "source": [
    "## 2.4.0+cpu = CPU 용 설치\n",
    "torch.__version__"
   ]
  },
  {
   "cell_type": "markdown",
   "metadata": {},
   "source": [
    "#### PyTorch GPU 설치\n",
    "- NVIDIA GPU에서만 가능, CUDA로 되어있기 때문\n",
    "- GPU설치가 가능한지 먼저 확인\n",
    "\n",
    "```python\n",
    "!nvidia-smi\n",
    "```"
   ]
  },
  {
   "cell_type": "code",
   "execution_count": 5,
   "metadata": {},
   "outputs": [
    {
     "name": "stdout",
     "output_type": "stream",
     "text": [
      "Tue Aug  6 12:31:41 2024       \n",
      "+---------------------------------------------------------------------------------------+\n",
      "| NVIDIA-SMI 536.23                 Driver Version: 536.23       CUDA Version: 12.2     |\n",
      "|-----------------------------------------+----------------------+----------------------+\n",
      "| GPU  Name                     TCC/WDDM  | Bus-Id        Disp.A | Volatile Uncorr. ECC |\n",
      "| Fan  Temp   Perf          Pwr:Usage/Cap |         Memory-Usage | GPU-Util  Compute M. |\n",
      "|                                         |                      |               MIG M. |\n",
      "|=========================================+======================+======================|\n",
      "|   0  NVIDIA GeForce GTX 1650      WDDM  | 00000000:01:00.0  On |                  N/A |\n",
      "| 50%   32C    P8               9W /  75W |    766MiB /  4096MiB |      6%      Default |\n",
      "|                                         |                      |                  N/A |\n",
      "+-----------------------------------------+----------------------+----------------------+\n",
      "                                                                                         \n",
      "+---------------------------------------------------------------------------------------+\n",
      "| Processes:                                                                            |\n",
      "|  GPU   GI   CI        PID   Type   Process name                            GPU Memory |\n",
      "|        ID   ID                                                             Usage      |\n",
      "|=======================================================================================|\n",
      "|    0   N/A  N/A     10904    C+G   C:\\Windows\\explorer.exe                   N/A      |\n",
      "|    0   N/A  N/A     12748    C+G   ...nt.CBS_cw5n1h2txyewy\\SearchHost.exe    N/A      |\n",
      "|    0   N/A  N/A     12772    C+G   ...2txyewy\\StartMenuExperienceHost.exe    N/A      |\n",
      "|    0   N/A  N/A     13824    C+G   ...5n1h2txyewy\\ShellExperienceHost.exe    N/A      |\n",
      "|    0   N/A  N/A     15432    C+G   ...ekyb3d8bbwe\\PhoneExperienceHost.exe    N/A      |\n",
      "|    0   N/A  N/A     16720    C+G   ...CBS_cw5n1h2txyewy\\TextInputHost.exe    N/A      |\n",
      "|    0   N/A  N/A     16996    C+G   ...Desktop\\app-3.4.2\\GitHubDesktop.exe    N/A      |\n",
      "|    0   N/A  N/A     17876    C+G   C:\\DEV\\IDLE\\Microsoft VS Code\\Code.exe    N/A      |\n",
      "|    0   N/A  N/A     18740    C+G   ....5536.0_x64__8j3eq9eme6ctt\\IGCC.exe    N/A      |\n",
      "|    0   N/A  N/A     21300    C+G   ...oogle\\Chrome\\Application\\chrome.exe    N/A      |\n",
      "|    0   N/A  N/A     21924    C+G   ...n\\126.0.2592.113\\msedgewebview2.exe    N/A      |\n",
      "|    0   N/A  N/A     23228    C+G   ...r\\AppData\\Roaming\\Zoom\\bin\\Zoom.exe    N/A      |\n",
      "|    0   N/A  N/A     23324    C+G   ...n\\126.0.2592.113\\msedgewebview2.exe    N/A      |\n",
      "+---------------------------------------------------------------------------------------+\n"
     ]
    }
   ],
   "source": [
    "!nvidia-smi"
   ]
  },
  {
   "cell_type": "markdown",
   "metadata": {},
   "source": [
    "##### CUDA Version 12.2\n",
    "- CUDA(Computer Unified Device Architecture) : NVIDIA에서 그래픽카드 가속을 위해 만든 기술\n",
    "- https://ko.wikipedia.org/wiki/CUDA\n",
    "\n",
    "##### CUDA 설치\n",
    "- CUDA Toolkit 12.2\n",
    "    - https://developer.nvidia.com/cuda-12-2-2-download-archive?target_os=Windows&target_arch=x86_64&target_version=11\n",
    "- cuDNN(Deep Neural Network)\n",
    "    - CUDA Toolkit에 맞는 버전확인\n",
    "    - https://developer.nvidia.com/rdp/cudnn-archive 확인 후 다운로드(단, 로그인 필수)\n",
    "    - 압축을 풀고 (CUDA 경로에 복사/붙여넣기)"
   ]
  },
  {
   "cell_type": "markdown",
   "metadata": {},
   "source": [
    "#### GPU용 파이썬 가상환경 만들기\n",
    "- GPU PyTorch는 설치로그를 봐야하기 때문에 명령 프롬프트에서 진행\n",
    "\n",
    "- 터미널 오픈\n",
    "    - pip list로 virtualenv 확인\n",
    "    - 없으면 pip install virtualenv 설치\n",
    "    \n",
    "- 가상환경 활성화\n",
    "    - cd gpu_env\\Scripts\\activate\n",
    "    - pip install torch torchvision torchaudio --index-url https://download.pytorch.org/whl/cu121"
   ]
  },
  {
   "cell_type": "markdown",
   "metadata": {},
   "source": [
    "#### 파이토치 GPU 확인"
   ]
  },
  {
   "cell_type": "code",
   "execution_count": 1,
   "metadata": {},
   "outputs": [],
   "source": [
    "import torch"
   ]
  },
  {
   "cell_type": "code",
   "execution_count": 2,
   "metadata": {},
   "outputs": [
    {
     "data": {
      "text/plain": [
       "'2.4.0+cu121'"
      ]
     },
     "execution_count": 2,
     "metadata": {},
     "output_type": "execute_result"
    }
   ],
   "source": [
    "## 2.4.0+cu121 --> CUDA 12.1 버전의 PyTorch\n",
    "torch.__version__"
   ]
  },
  {
   "cell_type": "code",
   "execution_count": 3,
   "metadata": {},
   "outputs": [
    {
     "data": {
      "text/plain": [
       "True"
      ]
     },
     "execution_count": 3,
     "metadata": {},
     "output_type": "execute_result"
    }
   ],
   "source": [
    "## CUDA 쓸 수 있는지 확인\n",
    "torch.cuda.is_available()"
   ]
  },
  {
   "cell_type": "code",
   "execution_count": 4,
   "metadata": {},
   "outputs": [
    {
     "data": {
      "text/plain": [
       "'NVIDIA GeForce GTX 1650'"
      ]
     },
     "execution_count": 4,
     "metadata": {},
     "output_type": "execute_result"
    }
   ],
   "source": [
    "## 설치된 CUDA가 동작하는 그래픽카드 정보확인\n",
    "torch.cuda.get_device_name(0)"
   ]
  },
  {
   "cell_type": "markdown",
   "metadata": {},
   "source": [
    "#### 이제부터 GPU 가속으로 파이토치(텐서플로 가능) 딥러닝을 할 수 있음"
   ]
  }
 ],
 "metadata": {
  "kernelspec": {
   "display_name": "Python 3",
   "language": "python",
   "name": "python3"
  },
  "language_info": {
   "codemirror_mode": {
    "name": "ipython",
    "version": 3
   },
   "file_extension": ".py",
   "mimetype": "text/x-python",
   "name": "python",
   "nbconvert_exporter": "python",
   "pygments_lexer": "ipython3",
   "version": "3.11.5"
  }
 },
 "nbformat": 4,
 "nbformat_minor": 2
}
