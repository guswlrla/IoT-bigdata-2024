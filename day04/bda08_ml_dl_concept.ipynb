{
 "cells": [
  {
   "cell_type": "markdown",
   "metadata": {},
   "source": [
    "### 머신러닝, 딥러닝 기초\n",
    "- 지능(Intelligence) - 어떠한 문제를 해결하기 위한 지적(뇌를 사용한)인 활동능력\n",
    "- 인공지능(Artificial Intelligence) - 기계가 사람의 지능을 모방하는 기술\n",
    "- 인공지능 개념이 나온건 1950년대이지만 실제로 사용할 수 있게 되기까지 60년정도 걸렸음\n",
    "\n",
    "#### 인공지능 목표\n",
    "- 인간이 하는 모든 일을 인공지능을 탑재한 기계가 모두 해내도록 만드는 것\n",
    "\n",
    "#### 인공지능 종류\n",
    "- 약 인공지능과 강 인공지능으로 분류\n",
    "    - 약 인공지능(Weak AI) : 사람이 쉽게 처리할 수 있었지만, 컴퓨터로 하기 어려웠던 일을 수행할 수 있게 하는 인공지능\n",
    "        - 지각을 가지고 있지 x, 특정한 업무만 처리하고 거기에 집중\n",
    "        - 현재를 약 인공지능의 시대라 칭함\n",
    "    - 강 인공지능(Strong AI) : AGI(Artificial General Intelligence) 성능을 가진 인공지능\n",
    "        - 인공지능 연구의 목표\n",
    "        - 약 인공지능에 비해 더 인간같고, 물어보면 다 대답해주는 로봇이 예\n",
    "        - http://youtube.com/watch?v=bAr75K-5Uqw?si=FJY8WVUm3d8NTD7W 참조\n",
    "        - 강 인공지능으로 가고 있음"
   ]
  },
  {
   "cell_type": "markdown",
   "metadata": {},
   "source": [
    "#### 인공지능 발전 요인\n",
    "- 인공지능이 60년동안 발전할 수 없었지만, 이제 발전하게 된 이유\n",
    "    - 컴퓨터 하드웨어 발전\n",
    "        - 기타 하드웨어도 포함하지만 CPU보다 GPU(Graphic Processing Unit)가 괄목할 발전, NVIDIA/AMD 등의 그래픽 카드를 의미\n",
    "        - 3D 게임/그래픽, 블록체인 계산, 딥러닝 계산처리\n",
    "        - NPU(Neural network Processing Unit) > TPU(Tensor Processing Unit) 구글에서 만든 NPU\n",
    "    - 기하급수적인 데이터 증가\n",
    "        - 빅데이터 등으로 정형/비정형데이터 데이터 수가 폭발적 증가\n",
    "        - 하루에 생산되는 데이터 총량 2.5EB(엑사바이트 = 10억기가바이트)\n",
    "    - 알고리즘 발견\n",
    "        - 하드웨어와 데이터를 사용해서 처리할 수 있는 알고리즘이 개선"
   ]
  }
 ],
 "metadata": {
  "language_info": {
   "name": "python"
  }
 },
 "nbformat": 4,
 "nbformat_minor": 2
}
