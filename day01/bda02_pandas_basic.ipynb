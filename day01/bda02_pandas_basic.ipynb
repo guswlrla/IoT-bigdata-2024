{
 "cells": [
  {
   "cell_type": "markdown",
   "metadata": {},
   "source": [
    "### Pandas 기초\n",
    "- 데이터처리 라이브러리\n",
    "\n",
    "#### Pandas 설치\n",
    "```shell\n",
    "!pip install pandas\n",
    "```\n",
    "\n",
    "#### PyArrow 설치\n",
    "- Pandas에 새로 추가된 라이브러리\n",
    "```shell\n",
    "!pip install pyarrow\n",
    "```"
   ]
  },
  {
   "cell_type": "code",
   "execution_count": 1,
   "metadata": {},
   "outputs": [
    {
     "name": "stdout",
     "output_type": "stream",
     "text": [
      "Requirement already satisfied: pandas in c:\\dev\\langs\\python311\\lib\\site-packages (2.2.0)\n",
      "Requirement already satisfied: numpy<2,>=1.23.2 in c:\\dev\\langs\\python311\\lib\\site-packages (from pandas) (1.26.3)\n",
      "Requirement already satisfied: python-dateutil>=2.8.2 in c:\\users\\user\\appdata\\roaming\\python\\python311\\site-packages (from pandas) (2.8.2)\n",
      "Requirement already satisfied: pytz>=2020.1 in c:\\dev\\langs\\python311\\lib\\site-packages (from pandas) (2024.1)\n",
      "Requirement already satisfied: tzdata>=2022.7 in c:\\dev\\langs\\python311\\lib\\site-packages (from pandas) (2024.1)\n",
      "Requirement already satisfied: six>=1.5 in c:\\users\\user\\appdata\\roaming\\python\\python311\\site-packages (from python-dateutil>=2.8.2->pandas) (1.16.0)\n"
     ]
    },
    {
     "name": "stderr",
     "output_type": "stream",
     "text": [
      "\n",
      "[notice] A new release of pip is available: 24.0 -> 24.2\n",
      "[notice] To update, run: python.exe -m pip install --upgrade pip\n"
     ]
    }
   ],
   "source": [
    "!pip install pandas"
   ]
  },
  {
   "cell_type": "code",
   "execution_count": 5,
   "metadata": {},
   "outputs": [
    {
     "name": "stdout",
     "output_type": "stream",
     "text": [
      "Collecting pyarrow\n",
      "  Downloading pyarrow-17.0.0-cp311-cp311-win_amd64.whl.metadata (3.4 kB)\n",
      "Requirement already satisfied: numpy>=1.16.6 in c:\\dev\\langs\\python311\\lib\\site-packages (from pyarrow) (1.26.3)\n",
      "Downloading pyarrow-17.0.0-cp311-cp311-win_amd64.whl (25.2 MB)\n",
      "   ---------------------------------------- 0.0/25.2 MB ? eta -:--:--\n",
      "   ---------------------------------------- 0.0/25.2 MB ? eta -:--:--\n",
      "   ---------------------------------------- 0.1/25.2 MB 2.8 MB/s eta 0:00:09\n",
      "    --------------------------------------- 0.4/25.2 MB 3.8 MB/s eta 0:00:07\n",
      "   - -------------------------------------- 0.8/25.2 MB 5.1 MB/s eta 0:00:05\n",
      "   -- ------------------------------------- 1.3/25.2 MB 6.4 MB/s eta 0:00:04\n",
      "   -- ------------------------------------- 1.9/25.2 MB 7.5 MB/s eta 0:00:04\n",
      "   --- ------------------------------------ 2.4/25.2 MB 8.2 MB/s eta 0:00:03\n",
      "   ---- ----------------------------------- 2.9/25.2 MB 8.5 MB/s eta 0:00:03\n",
      "   ----- ---------------------------------- 3.5/25.2 MB 8.9 MB/s eta 0:00:03\n",
      "   ------ --------------------------------- 3.9/25.2 MB 9.0 MB/s eta 0:00:03\n",
      "   ------- -------------------------------- 4.4/25.2 MB 9.4 MB/s eta 0:00:03\n",
      "   ------- -------------------------------- 5.0/25.2 MB 9.3 MB/s eta 0:00:03\n",
      "   -------- ------------------------------- 5.5/25.2 MB 9.5 MB/s eta 0:00:03\n",
      "   --------- ------------------------------ 6.1/25.2 MB 9.7 MB/s eta 0:00:02\n",
      "   ---------- ----------------------------- 6.6/25.2 MB 9.8 MB/s eta 0:00:02\n",
      "   ----------- ---------------------------- 7.2/25.2 MB 10.0 MB/s eta 0:00:02\n",
      "   ------------ --------------------------- 7.7/25.2 MB 10.1 MB/s eta 0:00:02\n",
      "   ------------- -------------------------- 8.3/25.2 MB 10.2 MB/s eta 0:00:02\n",
      "   -------------- ------------------------- 8.8/25.2 MB 10.3 MB/s eta 0:00:02\n",
      "   -------------- ------------------------- 9.4/25.2 MB 10.4 MB/s eta 0:00:02\n",
      "   --------------- ------------------------ 9.9/25.2 MB 10.4 MB/s eta 0:00:02\n",
      "   ---------------- ----------------------- 10.5/25.2 MB 11.1 MB/s eta 0:00:02\n",
      "   ----------------- ---------------------- 11.1/25.2 MB 11.5 MB/s eta 0:00:02\n",
      "   ------------------ --------------------- 11.6/25.2 MB 11.5 MB/s eta 0:00:02\n",
      "   ------------------- -------------------- 12.2/25.2 MB 11.5 MB/s eta 0:00:02\n",
      "   -------------------- ------------------- 12.7/25.2 MB 11.5 MB/s eta 0:00:02\n",
      "   --------------------- ------------------ 13.3/25.2 MB 11.5 MB/s eta 0:00:02\n",
      "   ---------------------- ----------------- 13.8/25.2 MB 11.7 MB/s eta 0:00:01\n",
      "   ---------------------- ----------------- 14.4/25.2 MB 11.7 MB/s eta 0:00:01\n",
      "   ----------------------- ---------------- 15.0/25.2 MB 11.7 MB/s eta 0:00:01\n",
      "   ------------------------ --------------- 15.5/25.2 MB 11.9 MB/s eta 0:00:01\n",
      "   ------------------------- -------------- 16.1/25.2 MB 11.9 MB/s eta 0:00:01\n",
      "   -------------------------- ------------- 16.6/25.2 MB 11.9 MB/s eta 0:00:01\n",
      "   --------------------------- ------------ 17.1/25.2 MB 11.7 MB/s eta 0:00:01\n",
      "   ---------------------------- ----------- 17.6/25.2 MB 11.7 MB/s eta 0:00:01\n",
      "   ---------------------------- ----------- 18.2/25.2 MB 11.7 MB/s eta 0:00:01\n",
      "   ----------------------------- ---------- 18.7/25.2 MB 11.7 MB/s eta 0:00:01\n",
      "   ------------------------------ --------- 19.3/25.2 MB 11.7 MB/s eta 0:00:01\n",
      "   ------------------------------- -------- 19.8/25.2 MB 11.7 MB/s eta 0:00:01\n",
      "   -------------------------------- ------- 20.4/25.2 MB 11.7 MB/s eta 0:00:01\n",
      "   --------------------------------- ------ 20.9/25.2 MB 11.7 MB/s eta 0:00:01\n",
      "   ---------------------------------- ----- 21.5/25.2 MB 11.7 MB/s eta 0:00:01\n",
      "   ----------------------------------- ---- 22.0/25.2 MB 11.7 MB/s eta 0:00:01\n",
      "   ----------------------------------- ---- 22.6/25.2 MB 11.7 MB/s eta 0:00:01\n",
      "   ------------------------------------ --- 23.2/25.2 MB 11.7 MB/s eta 0:00:01\n",
      "   ------------------------------------- -- 23.7/25.2 MB 11.7 MB/s eta 0:00:01\n",
      "   -------------------------------------- - 24.3/25.2 MB 11.7 MB/s eta 0:00:01\n",
      "   ---------------------------------------  24.8/25.2 MB 11.7 MB/s eta 0:00:01\n",
      "   ---------------------------------------  25.1/25.2 MB 11.7 MB/s eta 0:00:01\n",
      "   ---------------------------------------- 25.2/25.2 MB 11.1 MB/s eta 0:00:00\n",
      "Installing collected packages: pyarrow\n",
      "Successfully installed pyarrow-17.0.0\n"
     ]
    },
    {
     "name": "stderr",
     "output_type": "stream",
     "text": [
      "\n",
      "[notice] A new release of pip is available: 24.0 -> 24.2\n",
      "[notice] To update, run: python.exe -m pip install --upgrade pip\n"
     ]
    }
   ],
   "source": [
    "!pip install pyarrow"
   ]
  },
  {
   "cell_type": "markdown",
   "metadata": {},
   "source": [
    "- Pandas 사용"
   ]
  },
  {
   "cell_type": "code",
   "execution_count": 11,
   "metadata": {},
   "outputs": [],
   "source": [
    "# Pyarrow will become a required dependency of pandas in the next major release of pandas (pandas 3.0)\n",
    "import pandas as pd # pd로 줄여씀"
   ]
  },
  {
   "cell_type": "markdown",
   "metadata": {},
   "source": [
    "#### 판다스 기본\n",
    "- 시리즈, 데이터프레임 개념\n",
    "- 판다스에서는 데이터프레임이 가장 기본, 데이터 처리도중 잘라서 시리즈를 사용함\n",
    "\n",
    "<img src=\"https://raw.githubusercontent.com/hugoMGSung/bigdata-analysis-2024/main/images/ba001.png\">"
   ]
  },
  {
   "cell_type": "code",
   "execution_count": 9,
   "metadata": {},
   "outputs": [
    {
     "data": {
      "text/plain": [
       "({'이름': ['김현지', '홍길동', '홍길순'], '나이': [24, 18, 20], '결혼': [False, True, True]},\n",
       " dict)"
      ]
     },
     "execution_count": 9,
     "metadata": {},
     "output_type": "execute_result"
    }
   ],
   "source": [
    "# 데이터프레임 객체 - 2차원 배열\n",
    "## 딕셔너리 생성\n",
    "origin = {'이름': ['김현지', '홍길동', '홍길순'], '나이': [24, 18, 20], '결혼':[False, True, True]}\n",
    "origin, type(origin)"
   ]
  },
  {
   "cell_type": "code",
   "execution_count": 12,
   "metadata": {},
   "outputs": [
    {
     "data": {
      "text/html": [
       "<div>\n",
       "<style scoped>\n",
       "    .dataframe tbody tr th:only-of-type {\n",
       "        vertical-align: middle;\n",
       "    }\n",
       "\n",
       "    .dataframe tbody tr th {\n",
       "        vertical-align: top;\n",
       "    }\n",
       "\n",
       "    .dataframe thead th {\n",
       "        text-align: right;\n",
       "    }\n",
       "</style>\n",
       "<table border=\"1\" class=\"dataframe\">\n",
       "  <thead>\n",
       "    <tr style=\"text-align: right;\">\n",
       "      <th></th>\n",
       "      <th>이름</th>\n",
       "      <th>나이</th>\n",
       "      <th>결혼</th>\n",
       "    </tr>\n",
       "  </thead>\n",
       "  <tbody>\n",
       "    <tr>\n",
       "      <th>0</th>\n",
       "      <td>김현지</td>\n",
       "      <td>24</td>\n",
       "      <td>False</td>\n",
       "    </tr>\n",
       "    <tr>\n",
       "      <th>1</th>\n",
       "      <td>홍길동</td>\n",
       "      <td>18</td>\n",
       "      <td>True</td>\n",
       "    </tr>\n",
       "    <tr>\n",
       "      <th>2</th>\n",
       "      <td>홍길순</td>\n",
       "      <td>20</td>\n",
       "      <td>True</td>\n",
       "    </tr>\n",
       "  </tbody>\n",
       "</table>\n",
       "</div>"
      ],
      "text/plain": [
       "    이름  나이     결혼\n",
       "0  김현지  24  False\n",
       "1  홍길동  18   True\n",
       "2  홍길순  20   True"
      ]
     },
     "execution_count": 12,
     "metadata": {},
     "output_type": "execute_result"
    }
   ],
   "source": [
    "## 딕셔너리로 데이터프레임 생성, 변수명을 보통 df로 사용\n",
    "df = pd.DataFrame(data=origin)\n",
    "df"
   ]
  },
  {
   "cell_type": "code",
   "execution_count": 15,
   "metadata": {},
   "outputs": [
    {
     "data": {
      "text/plain": [
       "pandas.core.frame.DataFrame"
      ]
     },
     "execution_count": 15,
     "metadata": {},
     "output_type": "execute_result"
    }
   ],
   "source": [
    "# 데이터 프레임타입\n",
    "type(df)"
   ]
  },
  {
   "cell_type": "code",
   "execution_count": 18,
   "metadata": {},
   "outputs": [
    {
     "data": {
      "text/html": [
       "<div>\n",
       "<style scoped>\n",
       "    .dataframe tbody tr th:only-of-type {\n",
       "        vertical-align: middle;\n",
       "    }\n",
       "\n",
       "    .dataframe tbody tr th {\n",
       "        vertical-align: top;\n",
       "    }\n",
       "\n",
       "    .dataframe thead th {\n",
       "        text-align: right;\n",
       "    }\n",
       "</style>\n",
       "<table border=\"1\" class=\"dataframe\">\n",
       "  <thead>\n",
       "    <tr style=\"text-align: right;\">\n",
       "      <th></th>\n",
       "      <th>0</th>\n",
       "      <th>1</th>\n",
       "      <th>2</th>\n",
       "      <th>3</th>\n",
       "    </tr>\n",
       "  </thead>\n",
       "  <tbody>\n",
       "    <tr>\n",
       "      <th>0</th>\n",
       "      <td>김현지</td>\n",
       "      <td>24</td>\n",
       "      <td>부산</td>\n",
       "      <td>False</td>\n",
       "    </tr>\n",
       "    <tr>\n",
       "      <th>1</th>\n",
       "      <td>홍길동</td>\n",
       "      <td>18</td>\n",
       "      <td>경성</td>\n",
       "      <td>True</td>\n",
       "    </tr>\n",
       "    <tr>\n",
       "      <th>2</th>\n",
       "      <td>홍길순</td>\n",
       "      <td>20</td>\n",
       "      <td>경성</td>\n",
       "      <td>True</td>\n",
       "    </tr>\n",
       "    <tr>\n",
       "      <th>3</th>\n",
       "      <td>변백현</td>\n",
       "      <td>33</td>\n",
       "      <td>부천</td>\n",
       "      <td>False</td>\n",
       "    </tr>\n",
       "  </tbody>\n",
       "</table>\n",
       "</div>"
      ],
      "text/plain": [
       "     0   1   2      3\n",
       "0  김현지  24  부산  False\n",
       "1  홍길동  18  경성   True\n",
       "2  홍길순  20  경성   True\n",
       "3  변백현  33  부천  False"
      ]
     },
     "execution_count": 18,
     "metadata": {},
     "output_type": "execute_result"
    }
   ],
   "source": [
    "## 2. 파이썬 리스트로 데이터프레임 생성\n",
    "data = [['김현지', 24, '부산', False],\n",
    "        ['홍길동', 18, '경성', True],\n",
    "        ['홍길순', 20, '경성', True],\n",
    "        ['변백현', 33, '부천', False]]\n",
    "df2 = pd.DataFrame(data=data)\n",
    "df2"
   ]
  },
  {
   "cell_type": "code",
   "execution_count": 20,
   "metadata": {},
   "outputs": [
    {
     "data": {
      "text/html": [
       "<div>\n",
       "<style scoped>\n",
       "    .dataframe tbody tr th:only-of-type {\n",
       "        vertical-align: middle;\n",
       "    }\n",
       "\n",
       "    .dataframe tbody tr th {\n",
       "        vertical-align: top;\n",
       "    }\n",
       "\n",
       "    .dataframe thead th {\n",
       "        text-align: right;\n",
       "    }\n",
       "</style>\n",
       "<table border=\"1\" class=\"dataframe\">\n",
       "  <thead>\n",
       "    <tr style=\"text-align: right;\">\n",
       "      <th></th>\n",
       "      <th>이름</th>\n",
       "      <th>나이</th>\n",
       "      <th>주소</th>\n",
       "      <th>결혼유무</th>\n",
       "    </tr>\n",
       "  </thead>\n",
       "  <tbody>\n",
       "    <tr>\n",
       "      <th>0</th>\n",
       "      <td>김현지</td>\n",
       "      <td>24</td>\n",
       "      <td>부산</td>\n",
       "      <td>False</td>\n",
       "    </tr>\n",
       "    <tr>\n",
       "      <th>1</th>\n",
       "      <td>홍길동</td>\n",
       "      <td>18</td>\n",
       "      <td>경성</td>\n",
       "      <td>True</td>\n",
       "    </tr>\n",
       "    <tr>\n",
       "      <th>2</th>\n",
       "      <td>홍길순</td>\n",
       "      <td>20</td>\n",
       "      <td>경성</td>\n",
       "      <td>True</td>\n",
       "    </tr>\n",
       "    <tr>\n",
       "      <th>3</th>\n",
       "      <td>변백현</td>\n",
       "      <td>33</td>\n",
       "      <td>부천</td>\n",
       "      <td>False</td>\n",
       "    </tr>\n",
       "  </tbody>\n",
       "</table>\n",
       "</div>"
      ],
      "text/plain": [
       "    이름  나이  주소   결혼유무\n",
       "0  김현지  24  부산  False\n",
       "1  홍길동  18  경성   True\n",
       "2  홍길순  20  경성   True\n",
       "3  변백현  33  부천  False"
      ]
     },
     "execution_count": 20,
     "metadata": {},
     "output_type": "execute_result"
    }
   ],
   "source": [
    "## 리스트로 DF를 만들면 컬럼 제목이 없기 때문에 추가를 해줘야 함\n",
    "df2 = pd.DataFrame(data=data, columns=['이름','나이','주소','결혼유무'])\n",
    "df2"
   ]
  },
  {
   "cell_type": "code",
   "execution_count": 21,
   "metadata": {},
   "outputs": [
    {
     "data": {
      "text/plain": [
       "0    1\n",
       "1    2\n",
       "2    3\n",
       "3    4\n",
       "dtype: int64"
      ]
     },
     "execution_count": 21,
     "metadata": {},
     "output_type": "execute_result"
    }
   ],
   "source": [
    "## 시리즈 생성\n",
    "sr1 = pd.Series([1,2,3,4])\n",
    "sr1"
   ]
  },
  {
   "cell_type": "code",
   "execution_count": 23,
   "metadata": {},
   "outputs": [
    {
     "data": {
      "text/plain": [
       "pandas.core.series.Series"
      ]
     },
     "execution_count": 23,
     "metadata": {},
     "output_type": "execute_result"
    }
   ],
   "source": [
    "# 시리즈 타입 확인\n",
    "type(sr1)"
   ]
  },
  {
   "cell_type": "code",
   "execution_count": 26,
   "metadata": {},
   "outputs": [
    {
     "data": {
      "text/plain": [
       "0    김현지\n",
       "1    홍길동\n",
       "2    홍길순\n",
       "3    변백현\n",
       "Name: 이름, dtype: object"
      ]
     },
     "execution_count": 26,
     "metadata": {},
     "output_type": "execute_result"
    }
   ],
   "source": [
    "df2['이름']"
   ]
  },
  {
   "cell_type": "code",
   "execution_count": 29,
   "metadata": {},
   "outputs": [
    {
     "data": {
      "text/plain": [
       "pandas.core.series.Series"
      ]
     },
     "execution_count": 29,
     "metadata": {},
     "output_type": "execute_result"
    }
   ],
   "source": [
    "## 데이터프레임은 시리즈(열)를 붙인 것들\n",
    "type(df2['이름'])"
   ]
  },
  {
   "cell_type": "code",
   "execution_count": 30,
   "metadata": {},
   "outputs": [
    {
     "data": {
      "text/html": [
       "<div>\n",
       "<style scoped>\n",
       "    .dataframe tbody tr th:only-of-type {\n",
       "        vertical-align: middle;\n",
       "    }\n",
       "\n",
       "    .dataframe tbody tr th {\n",
       "        vertical-align: top;\n",
       "    }\n",
       "\n",
       "    .dataframe thead th {\n",
       "        text-align: right;\n",
       "    }\n",
       "</style>\n",
       "<table border=\"1\" class=\"dataframe\">\n",
       "  <thead>\n",
       "    <tr style=\"text-align: right;\">\n",
       "      <th></th>\n",
       "      <th>이름</th>\n",
       "      <th>나이</th>\n",
       "    </tr>\n",
       "  </thead>\n",
       "  <tbody>\n",
       "    <tr>\n",
       "      <th>0</th>\n",
       "      <td>김현지</td>\n",
       "      <td>24</td>\n",
       "    </tr>\n",
       "    <tr>\n",
       "      <th>1</th>\n",
       "      <td>홍길동</td>\n",
       "      <td>18</td>\n",
       "    </tr>\n",
       "    <tr>\n",
       "      <th>2</th>\n",
       "      <td>홍길순</td>\n",
       "      <td>20</td>\n",
       "    </tr>\n",
       "    <tr>\n",
       "      <th>3</th>\n",
       "      <td>변백현</td>\n",
       "      <td>33</td>\n",
       "    </tr>\n",
       "  </tbody>\n",
       "</table>\n",
       "</div>"
      ],
      "text/plain": [
       "    이름  나이\n",
       "0  김현지  24\n",
       "1  홍길동  18\n",
       "2  홍길순  20\n",
       "3  변백현  33"
      ]
     },
     "execution_count": 30,
     "metadata": {},
     "output_type": "execute_result"
    }
   ],
   "source": [
    "## DF에서 두 열을 인덱싱 , Column 두 개를 붙인 것은 데이터프레임\n",
    "df2[['이름', '나이']]"
   ]
  },
  {
   "cell_type": "markdown",
   "metadata": {},
   "source": [
    "- 판다스 자료형\n",
    "    - Boolean\n",
    "    - Int8 ~ 64\n",
    "    - Uint8 ~ 64\n",
    "    - Float32, Float54\n",
    "    - DateTime\n",
    "    - Object\n",
    "    - Categorical"
   ]
  },
  {
   "cell_type": "markdown",
   "metadata": {},
   "source": [
    "- DataFrame 조작하는 방법, 빅데이터 분석할 때 실습으로 대체"
   ]
  },
  {
   "cell_type": "markdown",
   "metadata": {},
   "source": [
    "##### 데이터프레임 사용하기 (CSV, Excel...)\n",
    "- 엑셀 라이브러리 openpyxl 설치\n",
    "```shell\n",
    "!pip install openpyxl\n",
    "```"
   ]
  },
  {
   "cell_type": "code",
   "execution_count": 31,
   "metadata": {},
   "outputs": [
    {
     "name": "stdout",
     "output_type": "stream",
     "text": [
      "Collecting openpyxl\n",
      "  Downloading openpyxl-3.1.5-py2.py3-none-any.whl.metadata (2.5 kB)\n",
      "Collecting et-xmlfile (from openpyxl)\n",
      "  Downloading et_xmlfile-1.1.0-py3-none-any.whl.metadata (1.8 kB)\n",
      "Downloading openpyxl-3.1.5-py2.py3-none-any.whl (250 kB)\n",
      "   ---------------------------------------- 0.0/250.9 kB ? eta -:--:--\n",
      "   - -------------------------------------- 10.2/250.9 kB ? eta -:--:--\n",
      "   ------------- -------------------------- 81.9/250.9 kB 1.5 MB/s eta 0:00:01\n",
      "   ---------------------------------------- 250.9/250.9 kB 2.6 MB/s eta 0:00:00\n",
      "Downloading et_xmlfile-1.1.0-py3-none-any.whl (4.7 kB)\n",
      "Installing collected packages: et-xmlfile, openpyxl\n",
      "Successfully installed et-xmlfile-1.1.0 openpyxl-3.1.5\n"
     ]
    },
    {
     "name": "stderr",
     "output_type": "stream",
     "text": [
      "\n",
      "[notice] A new release of pip is available: 24.0 -> 24.2\n",
      "[notice] To update, run: python.exe -m pip install --upgrade pip\n"
     ]
    }
   ],
   "source": [
    "!pip install openpyxl"
   ]
  }
 ],
 "metadata": {
  "kernelspec": {
   "display_name": "Python 3",
   "language": "python",
   "name": "python3"
  },
  "language_info": {
   "codemirror_mode": {
    "name": "ipython",
    "version": 3
   },
   "file_extension": ".py",
   "mimetype": "text/x-python",
   "name": "python",
   "nbconvert_exporter": "python",
   "pygments_lexer": "ipython3",
   "version": "3.11.5"
  }
 },
 "nbformat": 4,
 "nbformat_minor": 2
}
